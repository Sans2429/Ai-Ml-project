{
  "nbformat": 4,
  "nbformat_minor": 0,
  "metadata": {
    "colab": {
      "provenance": []
    },
    "kernelspec": {
      "name": "python3",
      "display_name": "Python 3"
    },
    "language_info": {
      "name": "python"
    }
  },
  "cells": [
    {
      "cell_type": "code",
      "execution_count": 49,
      "metadata": {
        "id": "vl0rDMwH7Hk_",
        "colab": {
          "base_uri": "https://localhost:8080/"
        },
        "outputId": "2738218b-54e2-409f-8adc-e41219b50915"
      },
      "outputs": [
        {
          "output_type": "stream",
          "name": "stdout",
          "text": [
            "[['sam', 18, 'male', 101], ['ram', 18, 'male', 102], ['seetha', 18, 'female', 103], ['sandy', 18, 'male', 104]]\n"
          ]
        }
      ],
      "source": [
        "import numpy as np\n",
        "list1=[['sam',18,'male',101],['ram',18,'male',102],['seetha',18,'female',103],['sandy',18,'male',104]]\n",
        "print(list1)"
      ]
    },
    {
      "cell_type": "code",
      "source": [
        "ar1=np.asarray(list1)\n",
        "print(ar1)\n",
        "print('type :',type(ar1))\n",
        "print(\"size:\",ar1.size)\n",
        "print(\"shape :\",ar1.shape)\n",
        "print(\"itemsize :\",ar1.itemsize)\n",
        "print('number of dimension :',ar1.ndim)\n"
      ],
      "metadata": {
        "colab": {
          "base_uri": "https://localhost:8080/"
        },
        "id": "UNIkLGYFsneA",
        "outputId": "28c6a403-c736-4167-9f6e-214627df16e2"
      },
      "execution_count": 16,
      "outputs": [
        {
          "output_type": "stream",
          "name": "stdout",
          "text": [
            "[['sam' '18' 'male' '101']\n",
            " ['ram' '18' 'male' '102']\n",
            " ['seetha' '18' 'female' '103']\n",
            " ['sandy' '18' 'male' '104']]\n",
            "type : <class 'numpy.ndarray'>\n",
            "size: 16\n",
            "shape : (4, 4)\n",
            "itemsize : 84\n",
            "number of dimension : 2\n"
          ]
        }
      ]
    },
    {
      "cell_type": "code",
      "source": [
        "reshape=ar1.reshape(2,2,2,2)\n",
        "print(reshape)"
      ],
      "metadata": {
        "colab": {
          "base_uri": "https://localhost:8080/"
        },
        "id": "tBHKwOOR8SLl",
        "outputId": "fe9a694c-8934-480c-d437-0c62e976f5d9"
      },
      "execution_count": 48,
      "outputs": [
        {
          "output_type": "stream",
          "name": "stdout",
          "text": [
            "[[[['sam' '18']\n",
            "   ['male' '101']]\n",
            "\n",
            "  [['ram' '18']\n",
            "   ['male' '102']]]\n",
            "\n",
            "\n",
            " [[['seetha' '18']\n",
            "   ['female' '103']]\n",
            "\n",
            "  [['sandy' '18']\n",
            "   ['male' '104']]]]\n"
          ]
        }
      ]
    },
    {
      "cell_type": "code",
      "source": [
        "array=[0,0,0,0]\n",
        "list=[[ar1[0][0],ar1[1][0],ar1[2][0],ar1[3][0]],[ar1[0][1],ar1[1][1],ar1[2][1],ar1[3][1]],[ar1[0][2],ar1[1][2],ar1[2][2],ar1[3][2]],[ar1[0][3],ar1[1][3],ar1[2][3],ar1[3][3]]]\n",
        "for i in range(4):\n",
        "  array[i]=np.asarray(list[i])\n",
        "  print(array[i])\n",
        "  "
      ],
      "metadata": {
        "colab": {
          "base_uri": "https://localhost:8080/"
        },
        "id": "ewChnWYYuiiN",
        "outputId": "1a0f5adf-3dcc-4e76-e628-bb347f2dcacc"
      },
      "execution_count": 42,
      "outputs": [
        {
          "output_type": "stream",
          "name": "stdout",
          "text": [
            "['sam' 'ram' 'seetha' 'sandy']\n",
            "['18' '18' '18' '18']\n",
            "['male' 'male' 'female' 'male']\n",
            "['101' '102' '103' '104']\n"
          ]
        }
      ]
    }
  ]
}